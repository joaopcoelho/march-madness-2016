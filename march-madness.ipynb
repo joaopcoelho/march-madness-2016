{
 "cells": [
  {
   "cell_type": "markdown",
   "metadata": {},
   "source": [
    "# March Madness! #"
   ]
  },
  {
   "cell_type": "code",
   "execution_count": 7,
   "metadata": {
    "collapsed": false
   },
   "outputs": [],
   "source": [
    "# import libs\n",
    "import numpy as np\n",
    "import matplotlib.pyplot as plt\n",
    "import pandas as pd\n",
    "import seaborn as sns\n",
    "import sqlite3\n"
   ]
  },
  {
   "cell_type": "code",
   "execution_count": 80,
   "metadata": {
    "collapsed": false
   },
   "outputs": [
    {
     "data": {
      "text/html": [
       "<div>\n",
       "<table border=\"1\" class=\"dataframe\">\n",
       "  <thead>\n",
       "    <tr style=\"text-align: right;\">\n",
       "      <th></th>\n",
       "      <th>type</th>\n",
       "      <th>name</th>\n",
       "      <th>tbl_name</th>\n",
       "      <th>rootpage</th>\n",
       "      <th>sql</th>\n",
       "    </tr>\n",
       "  </thead>\n",
       "  <tbody>\n",
       "    <tr>\n",
       "      <th>0</th>\n",
       "      <td>table</td>\n",
       "      <td>TourneyDetailedResults</td>\n",
       "      <td>TourneyDetailedResults</td>\n",
       "      <td>2</td>\n",
       "      <td>CREATE TABLE TourneyDetailedResults (\\n    Sea...</td>\n",
       "    </tr>\n",
       "    <tr>\n",
       "      <th>1</th>\n",
       "      <td>table</td>\n",
       "      <td>RegularSeasonCompactResults</td>\n",
       "      <td>RegularSeasonCompactResults</td>\n",
       "      <td>69</td>\n",
       "      <td>CREATE TABLE RegularSeasonCompactResults (\\n  ...</td>\n",
       "    </tr>\n",
       "    <tr>\n",
       "      <th>2</th>\n",
       "      <td>table</td>\n",
       "      <td>TourneySlots</td>\n",
       "      <td>TourneySlots</td>\n",
       "      <td>3588</td>\n",
       "      <td>CREATE TABLE TourneySlots (\\n    Season INTEGE...</td>\n",
       "    </tr>\n",
       "    <tr>\n",
       "      <th>3</th>\n",
       "      <td>table</td>\n",
       "      <td>TourneySeeds</td>\n",
       "      <td>TourneySeeds</td>\n",
       "      <td>3636</td>\n",
       "      <td>CREATE TABLE TourneySeeds (\\n    Season INTEGE...</td>\n",
       "    </tr>\n",
       "    <tr>\n",
       "      <th>4</th>\n",
       "      <td>table</td>\n",
       "      <td>Seasons</td>\n",
       "      <td>Seasons</td>\n",
       "      <td>3669</td>\n",
       "      <td>CREATE TABLE Seasons (\\n    Season INTEGER,\\n ...</td>\n",
       "    </tr>\n",
       "    <tr>\n",
       "      <th>5</th>\n",
       "      <td>table</td>\n",
       "      <td>SampleSubmission</td>\n",
       "      <td>SampleSubmission</td>\n",
       "      <td>3672</td>\n",
       "      <td>CREATE TABLE SampleSubmission (\\n    Id TEXT P...</td>\n",
       "    </tr>\n",
       "    <tr>\n",
       "      <th>6</th>\n",
       "      <td>index</td>\n",
       "      <td>sqlite_autoindex_SampleSubmission_1</td>\n",
       "      <td>SampleSubmission</td>\n",
       "      <td>3673</td>\n",
       "      <td>None</td>\n",
       "    </tr>\n",
       "    <tr>\n",
       "      <th>7</th>\n",
       "      <td>table</td>\n",
       "      <td>Teams</td>\n",
       "      <td>Teams</td>\n",
       "      <td>4176</td>\n",
       "      <td>CREATE TABLE Teams (\\n    Team_Id INTEGER,\\n  ...</td>\n",
       "    </tr>\n",
       "    <tr>\n",
       "      <th>8</th>\n",
       "      <td>table</td>\n",
       "      <td>TourneyCompactResults</td>\n",
       "      <td>TourneyCompactResults</td>\n",
       "      <td>4184</td>\n",
       "      <td>CREATE TABLE TourneyCompactResults (\\n    Seas...</td>\n",
       "    </tr>\n",
       "    <tr>\n",
       "      <th>9</th>\n",
       "      <td>table</td>\n",
       "      <td>RegularSeasonDetailedResults</td>\n",
       "      <td>RegularSeasonDetailedResults</td>\n",
       "      <td>4235</td>\n",
       "      <td>CREATE TABLE RegularSeasonDetailedResults (\\n ...</td>\n",
       "    </tr>\n",
       "  </tbody>\n",
       "</table>\n",
       "</div>"
      ],
      "text/plain": [
       "    type                                 name                      tbl_name  \\\n",
       "0  table               TourneyDetailedResults        TourneyDetailedResults   \n",
       "1  table          RegularSeasonCompactResults   RegularSeasonCompactResults   \n",
       "2  table                         TourneySlots                  TourneySlots   \n",
       "3  table                         TourneySeeds                  TourneySeeds   \n",
       "4  table                              Seasons                       Seasons   \n",
       "5  table                     SampleSubmission              SampleSubmission   \n",
       "6  index  sqlite_autoindex_SampleSubmission_1              SampleSubmission   \n",
       "7  table                                Teams                         Teams   \n",
       "8  table                TourneyCompactResults         TourneyCompactResults   \n",
       "9  table         RegularSeasonDetailedResults  RegularSeasonDetailedResults   \n",
       "\n",
       "   rootpage                                                sql  \n",
       "0         2  CREATE TABLE TourneyDetailedResults (\\n    Sea...  \n",
       "1        69  CREATE TABLE RegularSeasonCompactResults (\\n  ...  \n",
       "2      3588  CREATE TABLE TourneySlots (\\n    Season INTEGE...  \n",
       "3      3636  CREATE TABLE TourneySeeds (\\n    Season INTEGE...  \n",
       "4      3669  CREATE TABLE Seasons (\\n    Season INTEGER,\\n ...  \n",
       "5      3672  CREATE TABLE SampleSubmission (\\n    Id TEXT P...  \n",
       "6      3673                                               None  \n",
       "7      4176  CREATE TABLE Teams (\\n    Team_Id INTEGER,\\n  ...  \n",
       "8      4184  CREATE TABLE TourneyCompactResults (\\n    Seas...  \n",
       "9      4235  CREATE TABLE RegularSeasonDetailedResults (\\n ...  "
      ]
     },
     "execution_count": 80,
     "metadata": {},
     "output_type": "execute_result"
    }
   ],
   "source": [
    "# import sql database into pandas\n",
    "# reference: http://www.datacarpentry.org/python-ecology/08-working-with-sql\n",
    "\n",
    "con = sqlite3.connect(\"database.sqlite\")\n",
    "master = pd.read_sql(\"SELECT * FROM sqlite_master\", con)\n",
    "\n",
    "master\n",
    "\n",
    "# now to load any new table into dataframe:\n",
    "# new_table = pd.read_sql(\"SELECT * FROM tbl_name\", con)"
   ]
  },
  {
   "cell_type": "code",
   "execution_count": 83,
   "metadata": {
    "collapsed": true
   },
   "outputs": [],
   "source": [
    "# create some dataframes\n",
    "\n",
    "teams = pd.read_sql(\"select * from Teams\", con)\n",
    "compact_results = pd.read_sql(\"select * from TourneyCompactResults\", con)"
   ]
  },
  {
   "cell_type": "code",
   "execution_count": 89,
   "metadata": {
    "collapsed": false
   },
   "outputs": [],
   "source": [
    "# add and plot win margin\n",
    "\n",
    "compact_results[\"WinMargin\"] = compact_results.Wscore - compact_results.Lscore"
   ]
  },
  {
   "cell_type": "code",
   "execution_count": 95,
   "metadata": {
    "collapsed": false
   },
   "outputs": [
    {
     "data": {
      "text/plain": [
       "<matplotlib.axes._subplots.AxesSubplot at 0x10b588f98>"
      ]
     },
     "execution_count": 95,
     "metadata": {},
     "output_type": "execute_result"
    },
    {
     "data": {
      "image/png": "[encoded data removed]",
      "text/plain": [
       "<matplotlib.figure.Figure at 0x10bb924e0>"
      ]
     },
     "metadata": {},
     "output_type": "display_data"
    }
   ],
   "source": [
    "compact_results.WinMargin.plot(kind=\"box\")"
   ]
  },
  {
   "cell_type": "code",
   "execution_count": null,
   "metadata": {
    "collapsed": true
   },
   "outputs": [],
   "source": []
  }
 ],
 "metadata": {
  "kernelspec": {
   "display_name": "Python 3",
   "language": "python",
   "name": "python3"
  },
  "language_info": {
   "codemirror_mode": {
    "name": "ipython",
    "version": 3
   },
   "file_extension": ".py",
   "mimetype": "text/x-python",
   "name": "python",
   "nbconvert_exporter": "python",
   "pygments_lexer": "ipython3",
   "version": "3.5.1"
  }
 },
 "nbformat": 4,
 "nbformat_minor": 0
}
